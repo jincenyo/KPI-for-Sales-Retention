{
 "cells": [
  {
   "cell_type": "markdown",
   "metadata": {},
   "source": [
    "Questions:\n",
    "\n",
    "    Which brands are stronger and which are weaker at driving repeat purchases\n",
    "    Does the marketing channel used to acquire customers make a difference\n",
    "    Are there specific products which are associated with repeat purchases\n",
    "    Other insight\n",
    "    What would be your recommendations around Brand, Product, Marketing to improve repeat purchases"
   ]
  },
  {
   "cell_type": "code",
   "execution_count": 1,
   "metadata": {},
   "outputs": [],
   "source": [
    "import pandas as pd\n",
    "import seaborn as sns\n",
    "from datetime import datetime as dt\n",
    "import matplotlib.pyplot as plt\n",
    "import numpy as np"
   ]
  },
  {
   "cell_type": "code",
   "execution_count": 2,
   "metadata": {},
   "outputs": [
    {
     "name": "stdout",
     "output_type": "stream",
     "text": [
      "/Users/Jincen/Desktop/Proj/petfood\n"
     ]
    }
   ],
   "source": [
    "%cd '/Users/Jincen/Desktop/Proj/petfood'"
   ]
  },
  {
   "cell_type": "code",
   "execution_count": 3,
   "metadata": {},
   "outputs": [
    {
     "data": {
      "text/html": [
       "<div>\n",
       "<style scoped>\n",
       "    .dataframe tbody tr th:only-of-type {\n",
       "        vertical-align: middle;\n",
       "    }\n",
       "\n",
       "    .dataframe tbody tr th {\n",
       "        vertical-align: top;\n",
       "    }\n",
       "\n",
       "    .dataframe thead th {\n",
       "        text-align: right;\n",
       "    }\n",
       "</style>\n",
       "<table border=\"1\" class=\"dataframe\">\n",
       "  <thead>\n",
       "    <tr style=\"text-align: right;\">\n",
       "      <th></th>\n",
       "      <th>Customer</th>\n",
       "      <th>Date Shipped</th>\n",
       "      <th>Product ID</th>\n",
       "      <th>Brand</th>\n",
       "      <th>Channel</th>\n",
       "    </tr>\n",
       "  </thead>\n",
       "  <tbody>\n",
       "    <tr>\n",
       "      <th>0</th>\n",
       "      <td>8711264</td>\n",
       "      <td>1/3/18</td>\n",
       "      <td>677</td>\n",
       "      <td>White Whale</td>\n",
       "      <td>Partner</td>\n",
       "    </tr>\n",
       "    <tr>\n",
       "      <th>1</th>\n",
       "      <td>8711416</td>\n",
       "      <td>1/3/18</td>\n",
       "      <td>677</td>\n",
       "      <td>White Whale</td>\n",
       "      <td>Direct</td>\n",
       "    </tr>\n",
       "    <tr>\n",
       "      <th>2</th>\n",
       "      <td>8711424</td>\n",
       "      <td>1/3/18</td>\n",
       "      <td>494</td>\n",
       "      <td>Black Dog</td>\n",
       "      <td>Direct</td>\n",
       "    </tr>\n",
       "    <tr>\n",
       "      <th>3</th>\n",
       "      <td>8712968</td>\n",
       "      <td>1/3/18</td>\n",
       "      <td>677</td>\n",
       "      <td>White Whale</td>\n",
       "      <td>Direct</td>\n",
       "    </tr>\n",
       "    <tr>\n",
       "      <th>4</th>\n",
       "      <td>8714688</td>\n",
       "      <td>1/3/18</td>\n",
       "      <td>677</td>\n",
       "      <td>White Whale</td>\n",
       "      <td>Direct</td>\n",
       "    </tr>\n",
       "  </tbody>\n",
       "</table>\n",
       "</div>"
      ],
      "text/plain": [
       "   Customer Date Shipped  Product ID        Brand  Channel\n",
       "0   8711264       1/3/18         677  White Whale  Partner\n",
       "1   8711416       1/3/18         677  White Whale   Direct\n",
       "2   8711424       1/3/18         494    Black Dog   Direct\n",
       "3   8712968       1/3/18         677  White Whale   Direct\n",
       "4   8714688       1/3/18         677  White Whale   Direct"
      ]
     },
     "execution_count": 3,
     "metadata": {},
     "output_type": "execute_result"
    }
   ],
   "source": [
    "df=pd.read_csv('sales-data.csv')\n",
    "df.head()"
   ]
  },
  {
   "cell_type": "markdown",
   "metadata": {},
   "source": [
    "## 1. Brand Comparision"
   ]
  },
  {
   "cell_type": "code",
   "execution_count": 4,
   "metadata": {},
   "outputs": [
    {
     "data": {
      "text/html": [
       "<div>\n",
       "<style scoped>\n",
       "    .dataframe tbody tr th:only-of-type {\n",
       "        vertical-align: middle;\n",
       "    }\n",
       "\n",
       "    .dataframe tbody tr th {\n",
       "        vertical-align: top;\n",
       "    }\n",
       "\n",
       "    .dataframe thead th {\n",
       "        text-align: right;\n",
       "    }\n",
       "</style>\n",
       "<table border=\"1\" class=\"dataframe\">\n",
       "  <thead>\n",
       "    <tr style=\"text-align: right;\">\n",
       "      <th></th>\n",
       "      <th>Customer</th>\n",
       "      <th>Date Shipped</th>\n",
       "      <th>Product ID</th>\n",
       "      <th>Brand</th>\n",
       "      <th>Channel</th>\n",
       "      <th>Counts</th>\n",
       "    </tr>\n",
       "  </thead>\n",
       "  <tbody>\n",
       "    <tr>\n",
       "      <th>0</th>\n",
       "      <td>8711264</td>\n",
       "      <td>1/3/18</td>\n",
       "      <td>677</td>\n",
       "      <td>White Whale</td>\n",
       "      <td>Partner</td>\n",
       "      <td>5</td>\n",
       "    </tr>\n",
       "    <tr>\n",
       "      <th>1</th>\n",
       "      <td>8711416</td>\n",
       "      <td>1/3/18</td>\n",
       "      <td>677</td>\n",
       "      <td>White Whale</td>\n",
       "      <td>Direct</td>\n",
       "      <td>2</td>\n",
       "    </tr>\n",
       "    <tr>\n",
       "      <th>2</th>\n",
       "      <td>8711424</td>\n",
       "      <td>1/3/18</td>\n",
       "      <td>494</td>\n",
       "      <td>Black Dog</td>\n",
       "      <td>Direct</td>\n",
       "      <td>2</td>\n",
       "    </tr>\n",
       "    <tr>\n",
       "      <th>3</th>\n",
       "      <td>8712968</td>\n",
       "      <td>1/3/18</td>\n",
       "      <td>677</td>\n",
       "      <td>White Whale</td>\n",
       "      <td>Direct</td>\n",
       "      <td>3</td>\n",
       "    </tr>\n",
       "    <tr>\n",
       "      <th>4</th>\n",
       "      <td>8714688</td>\n",
       "      <td>1/3/18</td>\n",
       "      <td>677</td>\n",
       "      <td>White Whale</td>\n",
       "      <td>Direct</td>\n",
       "      <td>4</td>\n",
       "    </tr>\n",
       "  </tbody>\n",
       "</table>\n",
       "</div>"
      ],
      "text/plain": [
       "   Customer Date Shipped  Product ID        Brand  Channel  Counts\n",
       "0   8711264       1/3/18         677  White Whale  Partner       5\n",
       "1   8711416       1/3/18         677  White Whale   Direct       2\n",
       "2   8711424       1/3/18         494    Black Dog   Direct       2\n",
       "3   8712968       1/3/18         677  White Whale   Direct       3\n",
       "4   8714688       1/3/18         677  White Whale   Direct       4"
      ]
     },
     "execution_count": 4,
     "metadata": {},
     "output_type": "execute_result"
    }
   ],
   "source": [
    "# Add Counts column showing number of purchases for each customer.\n",
    "z=df.Customer.value_counts()\n",
    "df['Counts']=df['Customer'].map(z.to_dict())\n",
    "df.head()"
   ]
  },
  {
   "cell_type": "code",
   "execution_count": 5,
   "metadata": {},
   "outputs": [],
   "source": [
    "repeat_df = df[df.Counts>1] # customer who made multiple purchases\n",
    "single_df = df[df.Counts==1]# customer who only made one purchase"
   ]
  },
  {
   "cell_type": "code",
   "execution_count": 6,
   "metadata": {},
   "outputs": [
    {
     "data": {
      "text/plain": [
       "4177"
      ]
     },
     "execution_count": 6,
     "metadata": {},
     "output_type": "execute_result"
    }
   ],
   "source": [
    "len(df.Customer.unique()) #total number of customers"
   ]
  },
  {
   "cell_type": "markdown",
   "metadata": {},
   "source": [
    "##### First calculate how many customers made repeat purchases"
   ]
  },
  {
   "cell_type": "code",
   "execution_count": 7,
   "metadata": {},
   "outputs": [],
   "source": [
    "#calculate unique customer_id in both repeat purchases and single purchases\n",
    "repeat_number = repeat_df.groupby('Brand')['Customer'].nunique().values.astype(int)\n",
    "single_number = single_df.groupby('Brand')['Customer'].nunique().values.astype(int)\n",
    "total = df.groupby('Brand')['Customer'].nunique().values.astype(int)"
   ]
  },
  {
   "cell_type": "code",
   "execution_count": 8,
   "metadata": {},
   "outputs": [
    {
     "data": {
      "text/html": [
       "<div>\n",
       "<style scoped>\n",
       "    .dataframe tbody tr th:only-of-type {\n",
       "        vertical-align: middle;\n",
       "    }\n",
       "\n",
       "    .dataframe tbody tr th {\n",
       "        vertical-align: top;\n",
       "    }\n",
       "\n",
       "    .dataframe thead th {\n",
       "        text-align: right;\n",
       "    }\n",
       "</style>\n",
       "<table border=\"1\" class=\"dataframe\">\n",
       "  <thead>\n",
       "    <tr style=\"text-align: right;\">\n",
       "      <th></th>\n",
       "      <th>Repeat Customer</th>\n",
       "      <th>Single Customer</th>\n",
       "      <th>Total Customer</th>\n",
       "      <th>Repeat Rate</th>\n",
       "    </tr>\n",
       "  </thead>\n",
       "  <tbody>\n",
       "    <tr>\n",
       "      <th>Black Dog</th>\n",
       "      <td>700</td>\n",
       "      <td>211</td>\n",
       "      <td>911</td>\n",
       "      <td>0.768386</td>\n",
       "    </tr>\n",
       "    <tr>\n",
       "      <th>Orange Cat</th>\n",
       "      <td>344</td>\n",
       "      <td>82</td>\n",
       "      <td>426</td>\n",
       "      <td>0.807512</td>\n",
       "    </tr>\n",
       "    <tr>\n",
       "      <th>White Whale</th>\n",
       "      <td>2290</td>\n",
       "      <td>550</td>\n",
       "      <td>2840</td>\n",
       "      <td>0.806338</td>\n",
       "    </tr>\n",
       "  </tbody>\n",
       "</table>\n",
       "</div>"
      ],
      "text/plain": [
       "             Repeat Customer  Single Customer  Total Customer  Repeat Rate\n",
       "Black Dog                700              211             911     0.768386\n",
       "Orange Cat               344               82             426     0.807512\n",
       "White Whale             2290              550            2840     0.806338"
      ]
     },
     "execution_count": 8,
     "metadata": {},
     "output_type": "execute_result"
    }
   ],
   "source": [
    "# Create a dataframe\n",
    "data = {'Repeat Customer': repeat_number, 'Single Customer': single_number, 'Total Customer':total, 'Repeat Rate':repeat_number/total }\n",
    "pd.DataFrame(data, index = ['Black Dog', 'Orange Cat', 'White Whale'])"
   ]
  },
  {
   "cell_type": "markdown",
   "metadata": {},
   "source": [
    "From the table we can see White Whale has the most customers among the three brands and it's customer retention rate is about 80.63% which is similar to Orange Cate as 80.75%. Black Dog has moderate amount of customers in all three brands but it has the lowest percentage of customer retention rate which means White Whale and Orange Cat are the best on driving repeat purchases and Black Dog is relevant weak on that. "
   ]
  },
  {
   "cell_type": "markdown",
   "metadata": {},
   "source": [
    "##### Next calculate how many times of repeat purchases made"
   ]
  },
  {
   "cell_type": "code",
   "execution_count": 9,
   "metadata": {},
   "outputs": [],
   "source": [
    "#dataframe with unique customer_id\n",
    "unique_repeat = repeat_df.drop_duplicates(subset='Customer',keep='first')"
   ]
  },
  {
   "cell_type": "code",
   "execution_count": 10,
   "metadata": {},
   "outputs": [
    {
     "data": {
      "image/png": "[encoded data removed]",
      "text/plain": [
       "<Figure size 432x288 with 1 Axes>"
      ]
     },
     "metadata": {},
     "output_type": "display_data"
    }
   ],
   "source": [
    "sns.set()\n",
    "unique_repeat.groupby('Brand')['Counts'].sum().plot(kind='bar')\n",
    "plt.title('Times of Repeat Purchases by Brands')\n",
    "plt.xlabel('Brand')\n",
    "plt.ylabel('Number of Purchase')\n",
    "plt.show()"
   ]
  },
  {
   "cell_type": "markdown",
   "metadata": {},
   "source": [
    "In previous table, we checked how many repeat customers each brand attracted, now the above bar plot gives the idea of how many times of total repeat purchases of each brand. It's clear that we can see White Whale has the largest number of total repeat purchases and orange cat has the lowest. \n",
    "\n",
    "Overall, White Whale are the strongest brand on driving repeat purchases and given Black Dog has roughly two times larger repeat purchases as Orange Cat did, Orange Cat is the weakest in all three Brands. Although Orange Cat has relevant good customer retention rate, we need to consider the base number of total purchases and total customers each brand can draw. "
   ]
  },
  {
   "cell_type": "markdown",
   "metadata": {},
   "source": [
    "## 2. Market Channel Difference on Acquiring Customers"
   ]
  },
  {
   "cell_type": "code",
   "execution_count": 11,
   "metadata": {},
   "outputs": [
    {
     "data": {
      "image/png": "[encoded data removed]",
      "text/plain": [
       "<Figure size 432x288 with 1 Axes>"
      ]
     },
     "metadata": {},
     "output_type": "display_data"
    }
   ],
   "source": [
    "#Channel difference in ovrall data\n",
    "df.groupby('Channel')['Customer'].nunique().plot(kind='bar')\n",
    "plt.title('Total Channel Comparision in Q1')\n",
    "plt.xlabel('Channel')\n",
    "plt.ylabel('Number of Customers')\n",
    "plt.show()"
   ]
  },
  {
   "cell_type": "code",
   "execution_count": 12,
   "metadata": {},
   "outputs": [
    {
     "data": {
      "text/plain": [
       "Brand        Channel\n",
       "Black Dog    Direct      684\n",
       "             Partner     227\n",
       "Orange Cat   Direct      426\n",
       "White Whale  Direct     2346\n",
       "             Partner     494\n",
       "Name: Customer, dtype: int64"
      ]
     },
     "execution_count": 12,
     "metadata": {},
     "output_type": "execute_result"
    }
   ],
   "source": [
    "# Count number of unique customers in each channel grouped by brand.\n",
    "df.groupby(['Brand', 'Channel'])['Customer'].nunique() "
   ]
  },
  {
   "cell_type": "code",
   "execution_count": 13,
   "metadata": {},
   "outputs": [
    {
     "data": {
      "image/png": "[encoded data removed]",
      "text/plain": [
       "<Figure size 432x288 with 1 Axes>"
      ]
     },
     "metadata": {},
     "output_type": "display_data"
    }
   ],
   "source": [
    "#Plot the above table\n",
    "df.groupby(['Brand', 'Channel'])['Customer'].nunique().unstack().plot(kind='bar')\n",
    "plt.title('Customer Channel Comparision in Brands')\n",
    "plt.xlabel('Brand')\n",
    "plt.ylabel('Number of Customers')\n",
    "plt.show()"
   ]
  },
  {
   "cell_type": "markdown",
   "metadata": {},
   "source": [
    "First, we checked the overall customer number difference in two channel. It gives the plot clearly showing that direct channel has a better performance. \n",
    "\n",
    "To check the differences between two channels precisely, we check the total number of customers each channel attracted in different brands. We see White Whale using direct channel attracted 5 times more customers compare to partner channel. Black Dog has roughly 3 times more customers in direct channel than partner channel, and Orange Cat has no customers from partner channel."
   ]
  },
  {
   "cell_type": "markdown",
   "metadata": {},
   "source": [
    "## 3. Products with Repeat Purchases"
   ]
  },
  {
   "cell_type": "code",
   "execution_count": 14,
   "metadata": {},
   "outputs": [
    {
     "data": {
      "text/plain": [
       "Brand\n",
       "Black Dog      10\n",
       "Orange Cat      6\n",
       "White Whale     9\n",
       "Name: Product ID, dtype: int64"
      ]
     },
     "execution_count": 14,
     "metadata": {},
     "output_type": "execute_result"
    }
   ],
   "source": [
    "# number of different products of each brand\n",
    "repeat_df.groupby('Brand')['Product ID'].nunique()"
   ]
  },
  {
   "cell_type": "code",
   "execution_count": 15,
   "metadata": {},
   "outputs": [
    {
     "data": {
      "text/plain": [
       "Brand        Product ID\n",
       "Black Dog    494            517\n",
       "             470            293\n",
       "             395            270\n",
       "             446            245\n",
       "             239            214\n",
       "             1073           210\n",
       "             458            126\n",
       "             314             76\n",
       "             284             43\n",
       "             323             36\n",
       "Orange Cat   1304           225\n",
       "             1244           198\n",
       "             1145           196\n",
       "             1202           183\n",
       "             1415           142\n",
       "             1502            89\n",
       "White Whale  377           2179\n",
       "             17            1387\n",
       "             548           1296\n",
       "             581           1096\n",
       "             1313           414\n",
       "             677            156\n",
       "             968             91\n",
       "             1388            67\n",
       "             1109            51\n",
       "Name: Product ID, dtype: int64"
      ]
     },
     "execution_count": 15,
     "metadata": {},
     "output_type": "execute_result"
    }
   ],
   "source": [
    "# number of each product sold by brand\n",
    "repeat_df.groupby('Brand')['Product ID'].value_counts(ascending=False)"
   ]
  },
  {
   "cell_type": "markdown",
   "metadata": {},
   "source": [
    "The three distinct brands sell different products. We know that White Whale has 10 kinds, Black Dog has 6 kinds, and Orange Cat has 9 kinds of different products. Among all the repeat purchases Product ID with 377, 17, 548, 581 has over one thousand times of purchases which are the top sellers. Furthermore the top sellers are all from brand White Whale. "
   ]
  },
  {
   "cell_type": "code",
   "execution_count": 16,
   "metadata": {},
   "outputs": [],
   "source": [
    "### Other Insights: Most Popular Products for Customer"
   ]
  },
  {
   "cell_type": "code",
   "execution_count": 17,
   "metadata": {},
   "outputs": [
    {
     "data": {
      "text/plain": [
       "Product ID\n",
       "377     492\n",
       "446      83\n",
       "494      58\n",
       "470      58\n",
       "1244     43\n",
       "677      29\n",
       "1304     20\n",
       "968      16\n",
       "1202     12\n",
       "323       7\n",
       "1145      7\n",
       "548       6\n",
       "581       5\n",
       "1073      2\n",
       "284       2\n",
       "1313      1\n",
       "395       1\n",
       "17        1\n",
       "Name: Customer, dtype: int64"
      ]
     },
     "execution_count": 17,
     "metadata": {},
     "output_type": "execute_result"
    }
   ],
   "source": [
    "#Among customer only made one time purchase which product is the most popular one\n",
    "single_df.groupby('Product ID')['Customer'].count().sort_values(ascending=False)"
   ]
  },
  {
   "cell_type": "code",
   "execution_count": 18,
   "metadata": {},
   "outputs": [
    {
     "data": {
      "text/plain": [
       "Brand        Product ID\n",
       "White Whale  377           492\n",
       "Black Dog    446            83\n",
       "             470            58\n",
       "             494            58\n",
       "Orange Cat   1244           43\n",
       "White Whale  677            29\n",
       "Orange Cat   1304           20\n",
       "White Whale  968            16\n",
       "Orange Cat   1202           12\n",
       "Black Dog    323             7\n",
       "Orange Cat   1145            7\n",
       "White Whale  548             6\n",
       "             581             5\n",
       "Black Dog    284             2\n",
       "             1073            2\n",
       "             395             1\n",
       "White Whale  17              1\n",
       "             1313            1\n",
       "Name: Customer, dtype: int64"
      ]
     },
     "execution_count": 18,
     "metadata": {},
     "output_type": "execute_result"
    }
   ],
   "source": [
    "#best seller in one time purchases by brands\n",
    "single_df.groupby(['Brand','Product ID'])['Customer'].count().sort_values(ascending=False)"
   ]
  },
  {
   "cell_type": "code",
   "execution_count": 19,
   "metadata": {},
   "outputs": [
    {
     "data": {
      "image/png": "[encoded data removed]",
      "text/plain": [
       "<Figure size 432x288 with 1 Axes>"
      ]
     },
     "metadata": {},
     "output_type": "display_data"
    }
   ],
   "source": [
    "#channel in repeat purchases\n",
    "repeat_df.groupby(['Brand', 'Channel'])['Customer'].nunique().unstack().plot(kind='bar')\n",
    "plt.title('Customer Channel Comparision in Brands')\n",
    "plt.xlabel('Brand')\n",
    "plt.ylabel('Number of Customers')\n",
    "plt.show()"
   ]
  },
  {
   "cell_type": "markdown",
   "metadata": {},
   "source": [
    "## 5. Conclusion"
   ]
  },
  {
   "cell_type": "markdown",
   "metadata": {},
   "source": [
    "White Whale has the largest customer base with a high customer retention rate. In order to improve repeat purchases, Petmania should focus more on the collaboration with White Whale which can enable Petmania both provide and extract more value from exising customer base. \n",
    "\n",
    "Direct channel is a better way to accquire customers than partner channel, Petmania should keep both channel to accquring customers since we want to keep the variation on different sources, but in the above plot in Q4 we can see that customers accquired from direct channel has higher chance for repeat purchases(ratio of blue and orange bars in repeat purchases data is larger than the ovrall purchases data in Q2) so leave more budgets to direct channel is a good solution to both accquire new customers and improve retention rate. \n",
    "\n",
    "At last, Product ID with 377, 17, 548, 581 are the top sellers in repeat purchase where product 377 is also the top seller in single purchase customer which means product 377 are the most popular product for new customers to give it a try and for repeat customers, product 377 is also in high demand. Petmania might want to put 377 into larger productions and promoting this product to make more loyal customers come back for it. They can also try to give the top sellers in the other two brands to White Whale to see if White Whale can optimize the profit while adding more values to the business since it has the largest customer base."
   ]
  }
 ],
 "metadata": {
  "kernelspec": {
   "display_name": "Python 3",
   "language": "python",
   "name": "python3"
  },
  "language_info": {
   "codemirror_mode": {
    "name": "ipython",
    "version": 3
   },
   "file_extension": ".py",
   "mimetype": "text/x-python",
   "name": "python",
   "nbconvert_exporter": "python",
   "pygments_lexer": "ipython3",
   "version": "3.7.3"
  }
 },
 "nbformat": 4,
 "nbformat_minor": 2
}
